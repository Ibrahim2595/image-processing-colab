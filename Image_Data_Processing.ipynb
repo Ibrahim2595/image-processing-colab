{
  "nbformat": 4,
  "nbformat_minor": 0,
  "metadata": {
    "colab": {
      "name": "2D_StyleGAN_Data_Processing (2).ipynb",
      "private_outputs": true,
      "provenance": [],
      "collapsed_sections": []
    },
    "kernelspec": {
      "name": "python3",
      "display_name": "Python 3"
    },
    "language_info": {
      "name": "python"
    },
    "accelerator": "TPU"
  },
  "cells": [
    {
      "cell_type": "markdown",
      "metadata": {
        "id": "qZqgQB14ja5a"
      },
      "source": [
        "# 2D StyleGAN Dataset Processing\n",
        "Jterm 2022\n",
        "\n",
        "## Setup CoLab\n",
        "\n",
        "In this section, we will be introducing how to set up styleGAN in GOogle CoLab. We will also introduce some pre-processing tools with OpenCV Python"
      ]
    },
    {
      "cell_type": "code",
      "metadata": {
        "id": "CyiONZgQbCy3"
      },
      "source": [
        "import os\n",
        "assert os.environ['COLAB_TPU_ADDR'], 'Make sure to select TPU from Edit > Notebook settings > Hardware accelerator'\n",
        "import cv2"
      ],
      "execution_count": null,
      "outputs": []
    },
    {
      "cell_type": "code",
      "source": [
        "from google.colab import drive\n",
        "drive.mount('/content/drive')"
      ],
      "metadata": {
        "id": "8i-hQLODVSls"
      },
      "execution_count": null,
      "outputs": []
    },
    {
      "cell_type": "markdown",
      "metadata": {
        "id": "BSRH_iLwkVW8"
      },
      "source": [
        "## Mount Your Google Drive\n",
        "\n",
        "Now that we have setup the infrastructure required, we can began to mount our dataset. We can do this by mounting the Google Drive. "
      ]
    },
    {
      "cell_type": "code",
      "metadata": {
        "id": "DO_Udtnncqo_"
      },
      "source": [
        "from google.colab import drive, files\n",
        "drive.mount('/content/gdrive', force_remount=True)\n",
        "cwd = os.getcwd()\n",
        "\n",
        "filedir = 'gdrive/MyDrive/2021_2D_Dataset_Plans/'\n",
        "\n",
        "output_dir= 'gdrive/MyDrive/2021_2D_Dataset_Plans/Output/'"
      ],
      "execution_count": null,
      "outputs": []
    },
    {
      "cell_type": "code",
      "metadata": {
        "id": "ZYPt4-TXke94"
      },
      "source": [
        "def augument_dataset(filedir, output_dir):\n",
        "\n",
        "  filelist = os.listdir(filedir)\n",
        "  for file in filelist:\n",
        "      name=file[:-4]\n",
        "      \n",
        "      img = cv2.imread(filedir+file)\n",
        "      img_mir = cv2.flip(img, 1)\n",
        "\n",
        "      img_c_90 = cv2.rotate(img, cv2.ROTATE_90_CLOCKWISE)\n",
        "      img_c_180 = cv2.rotate(img, cv2.ROTATE_180)\n",
        "      img_c_270 = cv2.rotate(img, cv2.ROTATE_90_COUNTERCLOCKWISE)\n",
        "\n",
        "      img_m_90 = cv2.rotate(img_mir, cv2.ROTATE_90_CLOCKWISE)\n",
        "      img_m_180 = cv2.rotate(img_mir, cv2.ROTATE_180)\n",
        "      img_m_270 = cv2.rotate(img_mir, cv2.ROTATE_90_COUNTERCLOCKWISE)\n",
        "      \n",
        "      #print(img_c_90.shape, img_c_180.shape, img_c_270.shape)\n",
        "      cv2.imwrite(output_dir+name+'_90.jpg', img_c_90)\n",
        "      cv2.imwrite(output_dir+name+'_180.jpg', img_c_180)\n",
        "      cv2.imwrite(output_dir+name+'_270.jpg', img_c_270)\n",
        "\n",
        "      if not os.path.exists(output_dir):\n",
        "        os.makedirs(output_dir)\n",
        "\n",
        "      cv2.imwrite(output_dir+name+'_m_90.jpg', img_m_90)\n",
        "      cv2.imwrite(output_dir+name+'_m_180.jpg', img_m_180)\n",
        "      cv2.imwrite(output_dir+name+'_m_270.jpg', img_m_270)"
      ],
      "execution_count": null,
      "outputs": []
    },
    {
      "cell_type": "code",
      "metadata": {
        "id": "yQJCqEP4edgD"
      },
      "source": [
        "augument_dataset(filedir,output_dir)"
      ],
      "execution_count": null,
      "outputs": []
    },
    {
      "cell_type": "markdown",
      "metadata": {
        "id": "M-hdi0ovoVji"
      },
      "source": [
        "## Download the Dataset for Further Training"
      ]
    },
    {
      "cell_type": "code",
      "metadata": {
        "scrolled": false,
        "id": "f80c9211"
      },
      "source": [
        "!zip -r /content/file.zip /content/gdrive/MyDrive/2021_2D_Dataset_Plans/Output\n",
        "files.download(\"/content/file.zip\")"
      ],
      "execution_count": null,
      "outputs": []
    },
    {
      "cell_type": "code",
      "metadata": {
        "id": "7U0w8rFmoith"
      },
      "source": [
        ""
      ],
      "execution_count": null,
      "outputs": []
    }
  ]
}